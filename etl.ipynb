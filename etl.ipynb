{
 "cells": [
  {
   "cell_type": "markdown",
   "metadata": {},
   "source": [
    "#### Extract\n",
    "1. Import csv_1 (pollutan o3) data\n",
    "2. Import csv_2 (pollutan pm25) data"
   ]
  },
  {
   "cell_type": "code",
   "execution_count": 4,
   "metadata": {},
   "outputs": [],
   "source": [
    "#import required dependencies\n",
    "import os\n",
    "import pandas as pd\n",
    "import datetime"
   ]
  },
  {
   "cell_type": "code",
   "execution_count": 6,
   "metadata": {},
   "outputs": [
    {
     "data": {
      "text/html": [
       "<div>\n",
       "<style scoped>\n",
       "    .dataframe tbody tr th:only-of-type {\n",
       "        vertical-align: middle;\n",
       "    }\n",
       "\n",
       "    .dataframe tbody tr th {\n",
       "        vertical-align: top;\n",
       "    }\n",
       "\n",
       "    .dataframe thead th {\n",
       "        text-align: right;\n",
       "    }\n",
       "</style>\n",
       "<table border=\"1\" class=\"dataframe\">\n",
       "  <thead>\n",
       "    <tr style=\"text-align: right;\">\n",
       "      <th></th>\n",
       "      <th>Date</th>\n",
       "      <th>Country</th>\n",
       "      <th>City</th>\n",
       "      <th>Specie</th>\n",
       "      <th>count</th>\n",
       "      <th>min (ppb)</th>\n",
       "      <th>max (ppb)</th>\n",
       "      <th>median (ppb)</th>\n",
       "    </tr>\n",
       "  </thead>\n",
       "  <tbody>\n",
       "    <tr>\n",
       "      <th>0</th>\n",
       "      <td>1/1/2017</td>\n",
       "      <td>US</td>\n",
       "      <td>Los Angeles</td>\n",
       "      <td>o3</td>\n",
       "      <td>24</td>\n",
       "      <td>2</td>\n",
       "      <td>31</td>\n",
       "      <td>10</td>\n",
       "    </tr>\n",
       "    <tr>\n",
       "      <th>1</th>\n",
       "      <td>1/1/2017</td>\n",
       "      <td>CN</td>\n",
       "      <td>Shanghai</td>\n",
       "      <td>o3</td>\n",
       "      <td>188</td>\n",
       "      <td>1</td>\n",
       "      <td>39</td>\n",
       "      <td>11</td>\n",
       "    </tr>\n",
       "    <tr>\n",
       "      <th>2</th>\n",
       "      <td>1/1/2017</td>\n",
       "      <td>US</td>\n",
       "      <td>Manhattan</td>\n",
       "      <td>o3</td>\n",
       "      <td>24</td>\n",
       "      <td>3</td>\n",
       "      <td>28</td>\n",
       "      <td>16</td>\n",
       "    </tr>\n",
       "    <tr>\n",
       "      <th>3</th>\n",
       "      <td>1/1/2017</td>\n",
       "      <td>US</td>\n",
       "      <td>Jacksonville</td>\n",
       "      <td>o3</td>\n",
       "      <td>46</td>\n",
       "      <td>2</td>\n",
       "      <td>18</td>\n",
       "      <td>12</td>\n",
       "    </tr>\n",
       "    <tr>\n",
       "      <th>4</th>\n",
       "      <td>1/1/2017</td>\n",
       "      <td>CN</td>\n",
       "      <td>Beijing</td>\n",
       "      <td>o3</td>\n",
       "      <td>235</td>\n",
       "      <td>1</td>\n",
       "      <td>8</td>\n",
       "      <td>2</td>\n",
       "    </tr>\n",
       "  </tbody>\n",
       "</table>\n",
       "</div>"
      ],
      "text/plain": [
       "       Date Country          City Specie  count  min (ppb)  max (ppb)  \\\n",
       "0  1/1/2017      US   Los Angeles     o3     24          2         31   \n",
       "1  1/1/2017      CN      Shanghai     o3    188          1         39   \n",
       "2  1/1/2017      US     Manhattan     o3     24          3         28   \n",
       "3  1/1/2017      US  Jacksonville     o3     46          2         18   \n",
       "4  1/1/2017      CN       Beijing     o3    235          1          8   \n",
       "\n",
       "   median (ppb)  \n",
       "0            10  \n",
       "1            11  \n",
       "2            16  \n",
       "3            12  \n",
       "4             2  "
      ]
     },
     "execution_count": 6,
     "metadata": {},
     "output_type": "execute_result"
    }
   ],
   "source": [
    "#1. import csv_1 data\n",
    "df1 = pd.read_csv(\"/home/achmadadyatma/Documents/learncode-dataEngineer_/my-data-engineer_project/ETL-python-postgreSQL/all_years_o3.csv\")\n",
    "df1.head()"
   ]
  },
  {
   "cell_type": "code",
   "execution_count": 7,
   "metadata": {},
   "outputs": [
    {
     "data": {
      "text/html": [
       "<div>\n",
       "<style scoped>\n",
       "    .dataframe tbody tr th:only-of-type {\n",
       "        vertical-align: middle;\n",
       "    }\n",
       "\n",
       "    .dataframe tbody tr th {\n",
       "        vertical-align: top;\n",
       "    }\n",
       "\n",
       "    .dataframe thead th {\n",
       "        text-align: right;\n",
       "    }\n",
       "</style>\n",
       "<table border=\"1\" class=\"dataframe\">\n",
       "  <thead>\n",
       "    <tr style=\"text-align: right;\">\n",
       "      <th></th>\n",
       "      <th>Date</th>\n",
       "      <th>Country</th>\n",
       "      <th>City</th>\n",
       "      <th>Specie</th>\n",
       "      <th>count</th>\n",
       "      <th>min (ug/m3)</th>\n",
       "      <th>max (ug/m3)</th>\n",
       "      <th>median (ug/m3)</th>\n",
       "    </tr>\n",
       "  </thead>\n",
       "  <tbody>\n",
       "    <tr>\n",
       "      <th>0</th>\n",
       "      <td>1/1/2017</td>\n",
       "      <td>IN</td>\n",
       "      <td>New Delhi</td>\n",
       "      <td>pm25</td>\n",
       "      <td>24</td>\n",
       "      <td>54.9</td>\n",
       "      <td>282.7</td>\n",
       "      <td>177.7</td>\n",
       "    </tr>\n",
       "    <tr>\n",
       "      <th>1</th>\n",
       "      <td>1/1/2017</td>\n",
       "      <td>CN</td>\n",
       "      <td>Shanghai</td>\n",
       "      <td>pm25</td>\n",
       "      <td>215</td>\n",
       "      <td>12.0</td>\n",
       "      <td>63.2</td>\n",
       "      <td>34.4</td>\n",
       "    </tr>\n",
       "    <tr>\n",
       "      <th>2</th>\n",
       "      <td>1/1/2017</td>\n",
       "      <td>US</td>\n",
       "      <td>Jacksonville</td>\n",
       "      <td>pm25</td>\n",
       "      <td>115</td>\n",
       "      <td>3.1</td>\n",
       "      <td>113.6</td>\n",
       "      <td>8.1</td>\n",
       "    </tr>\n",
       "    <tr>\n",
       "      <th>3</th>\n",
       "      <td>1/1/2017</td>\n",
       "      <td>US</td>\n",
       "      <td>Los Angeles</td>\n",
       "      <td>pm25</td>\n",
       "      <td>69</td>\n",
       "      <td>3.3</td>\n",
       "      <td>109.7</td>\n",
       "      <td>15.9</td>\n",
       "    </tr>\n",
       "    <tr>\n",
       "      <th>4</th>\n",
       "      <td>1/1/2017</td>\n",
       "      <td>US</td>\n",
       "      <td>Manhattan</td>\n",
       "      <td>pm25</td>\n",
       "      <td>96</td>\n",
       "      <td>4.3</td>\n",
       "      <td>23.0</td>\n",
       "      <td>12.1</td>\n",
       "    </tr>\n",
       "  </tbody>\n",
       "</table>\n",
       "</div>"
      ],
      "text/plain": [
       "       Date Country          City Specie  count  min (ug/m3)  max (ug/m3)  \\\n",
       "0  1/1/2017      IN     New Delhi   pm25     24         54.9        282.7   \n",
       "1  1/1/2017      CN      Shanghai   pm25    215         12.0         63.2   \n",
       "2  1/1/2017      US  Jacksonville   pm25    115          3.1        113.6   \n",
       "3  1/1/2017      US   Los Angeles   pm25     69          3.3        109.7   \n",
       "4  1/1/2017      US     Manhattan   pm25     96          4.3         23.0   \n",
       "\n",
       "   median (ug/m3)  \n",
       "0           177.7  \n",
       "1            34.4  \n",
       "2             8.1  \n",
       "3            15.9  \n",
       "4            12.1  "
      ]
     },
     "execution_count": 7,
     "metadata": {},
     "output_type": "execute_result"
    }
   ],
   "source": [
    "#2. import csv_2 data\n",
    "df2 = pd.read_csv(\"/home/achmadadyatma/Documents/learncode-dataEngineer_/my-data-engineer_project/ETL-python-postgreSQL/all_years_pm25.csv\")\n",
    "df2.head()"
   ]
  },
  {
   "cell_type": "markdown",
   "metadata": {},
   "source": [
    "#### Transform"
   ]
  },
  {
   "cell_type": "markdown",
   "metadata": {},
   "source": [
    "##### df1 \n",
    "1. drop last 3 columns\n",
    "2. rename the count columns\n",
    "3. delete the specie column\n",
    "4. convert date column as object type to datetime "
   ]
  },
  {
   "cell_type": "code",
   "execution_count": 8,
   "metadata": {},
   "outputs": [
    {
     "data": {
      "text/html": [
       "<div>\n",
       "<style scoped>\n",
       "    .dataframe tbody tr th:only-of-type {\n",
       "        vertical-align: middle;\n",
       "    }\n",
       "\n",
       "    .dataframe tbody tr th {\n",
       "        vertical-align: top;\n",
       "    }\n",
       "\n",
       "    .dataframe thead th {\n",
       "        text-align: right;\n",
       "    }\n",
       "</style>\n",
       "<table border=\"1\" class=\"dataframe\">\n",
       "  <thead>\n",
       "    <tr style=\"text-align: right;\">\n",
       "      <th></th>\n",
       "      <th>Date</th>\n",
       "      <th>Country</th>\n",
       "      <th>City</th>\n",
       "      <th>Specie</th>\n",
       "      <th>count</th>\n",
       "    </tr>\n",
       "  </thead>\n",
       "  <tbody>\n",
       "    <tr>\n",
       "      <th>0</th>\n",
       "      <td>1/1/2017</td>\n",
       "      <td>US</td>\n",
       "      <td>Los Angeles</td>\n",
       "      <td>o3</td>\n",
       "      <td>24</td>\n",
       "    </tr>\n",
       "    <tr>\n",
       "      <th>1</th>\n",
       "      <td>1/1/2017</td>\n",
       "      <td>CN</td>\n",
       "      <td>Shanghai</td>\n",
       "      <td>o3</td>\n",
       "      <td>188</td>\n",
       "    </tr>\n",
       "    <tr>\n",
       "      <th>2</th>\n",
       "      <td>1/1/2017</td>\n",
       "      <td>US</td>\n",
       "      <td>Manhattan</td>\n",
       "      <td>o3</td>\n",
       "      <td>24</td>\n",
       "    </tr>\n",
       "    <tr>\n",
       "      <th>3</th>\n",
       "      <td>1/1/2017</td>\n",
       "      <td>US</td>\n",
       "      <td>Jacksonville</td>\n",
       "      <td>o3</td>\n",
       "      <td>46</td>\n",
       "    </tr>\n",
       "    <tr>\n",
       "      <th>4</th>\n",
       "      <td>1/1/2017</td>\n",
       "      <td>CN</td>\n",
       "      <td>Beijing</td>\n",
       "      <td>o3</td>\n",
       "      <td>235</td>\n",
       "    </tr>\n",
       "  </tbody>\n",
       "</table>\n",
       "</div>"
      ],
      "text/plain": [
       "       Date Country          City Specie  count\n",
       "0  1/1/2017      US   Los Angeles     o3     24\n",
       "1  1/1/2017      CN      Shanghai     o3    188\n",
       "2  1/1/2017      US     Manhattan     o3     24\n",
       "3  1/1/2017      US  Jacksonville     o3     46\n",
       "4  1/1/2017      CN       Beijing     o3    235"
      ]
     },
     "execution_count": 8,
     "metadata": {},
     "output_type": "execute_result"
    }
   ],
   "source": [
    "# drop last 3 columns\n",
    "df1.drop(df1.columns[[5,6,7]], axis=1, inplace=True)\n",
    "df1.head()"
   ]
  },
  {
   "cell_type": "code",
   "execution_count": 9,
   "metadata": {},
   "outputs": [
    {
     "data": {
      "text/html": [
       "<div>\n",
       "<style scoped>\n",
       "    .dataframe tbody tr th:only-of-type {\n",
       "        vertical-align: middle;\n",
       "    }\n",
       "\n",
       "    .dataframe tbody tr th {\n",
       "        vertical-align: top;\n",
       "    }\n",
       "\n",
       "    .dataframe thead th {\n",
       "        text-align: right;\n",
       "    }\n",
       "</style>\n",
       "<table border=\"1\" class=\"dataframe\">\n",
       "  <thead>\n",
       "    <tr style=\"text-align: right;\">\n",
       "      <th></th>\n",
       "      <th>Date</th>\n",
       "      <th>Country</th>\n",
       "      <th>City</th>\n",
       "      <th>Specie</th>\n",
       "      <th>Count_o3</th>\n",
       "    </tr>\n",
       "  </thead>\n",
       "  <tbody>\n",
       "    <tr>\n",
       "      <th>0</th>\n",
       "      <td>1/1/2017</td>\n",
       "      <td>US</td>\n",
       "      <td>Los Angeles</td>\n",
       "      <td>o3</td>\n",
       "      <td>24</td>\n",
       "    </tr>\n",
       "    <tr>\n",
       "      <th>1</th>\n",
       "      <td>1/1/2017</td>\n",
       "      <td>CN</td>\n",
       "      <td>Shanghai</td>\n",
       "      <td>o3</td>\n",
       "      <td>188</td>\n",
       "    </tr>\n",
       "    <tr>\n",
       "      <th>2</th>\n",
       "      <td>1/1/2017</td>\n",
       "      <td>US</td>\n",
       "      <td>Manhattan</td>\n",
       "      <td>o3</td>\n",
       "      <td>24</td>\n",
       "    </tr>\n",
       "    <tr>\n",
       "      <th>3</th>\n",
       "      <td>1/1/2017</td>\n",
       "      <td>US</td>\n",
       "      <td>Jacksonville</td>\n",
       "      <td>o3</td>\n",
       "      <td>46</td>\n",
       "    </tr>\n",
       "    <tr>\n",
       "      <th>4</th>\n",
       "      <td>1/1/2017</td>\n",
       "      <td>CN</td>\n",
       "      <td>Beijing</td>\n",
       "      <td>o3</td>\n",
       "      <td>235</td>\n",
       "    </tr>\n",
       "  </tbody>\n",
       "</table>\n",
       "</div>"
      ],
      "text/plain": [
       "       Date Country          City Specie  Count_o3\n",
       "0  1/1/2017      US   Los Angeles     o3        24\n",
       "1  1/1/2017      CN      Shanghai     o3       188\n",
       "2  1/1/2017      US     Manhattan     o3        24\n",
       "3  1/1/2017      US  Jacksonville     o3        46\n",
       "4  1/1/2017      CN       Beijing     o3       235"
      ]
     },
     "execution_count": 9,
     "metadata": {},
     "output_type": "execute_result"
    }
   ],
   "source": [
    "#rename the count columns\n",
    "df1.columns = ['Date', 'Country', 'City', 'Specie', 'Count_o3']\n",
    "df1.head()"
   ]
  },
  {
   "cell_type": "code",
   "execution_count": 10,
   "metadata": {},
   "outputs": [
    {
     "data": {
      "text/html": [
       "<div>\n",
       "<style scoped>\n",
       "    .dataframe tbody tr th:only-of-type {\n",
       "        vertical-align: middle;\n",
       "    }\n",
       "\n",
       "    .dataframe tbody tr th {\n",
       "        vertical-align: top;\n",
       "    }\n",
       "\n",
       "    .dataframe thead th {\n",
       "        text-align: right;\n",
       "    }\n",
       "</style>\n",
       "<table border=\"1\" class=\"dataframe\">\n",
       "  <thead>\n",
       "    <tr style=\"text-align: right;\">\n",
       "      <th></th>\n",
       "      <th>Date</th>\n",
       "      <th>Country</th>\n",
       "      <th>City</th>\n",
       "      <th>Count_o3</th>\n",
       "    </tr>\n",
       "  </thead>\n",
       "  <tbody>\n",
       "    <tr>\n",
       "      <th>0</th>\n",
       "      <td>1/1/2017</td>\n",
       "      <td>US</td>\n",
       "      <td>Los Angeles</td>\n",
       "      <td>24</td>\n",
       "    </tr>\n",
       "    <tr>\n",
       "      <th>1</th>\n",
       "      <td>1/1/2017</td>\n",
       "      <td>CN</td>\n",
       "      <td>Shanghai</td>\n",
       "      <td>188</td>\n",
       "    </tr>\n",
       "    <tr>\n",
       "      <th>2</th>\n",
       "      <td>1/1/2017</td>\n",
       "      <td>US</td>\n",
       "      <td>Manhattan</td>\n",
       "      <td>24</td>\n",
       "    </tr>\n",
       "    <tr>\n",
       "      <th>3</th>\n",
       "      <td>1/1/2017</td>\n",
       "      <td>US</td>\n",
       "      <td>Jacksonville</td>\n",
       "      <td>46</td>\n",
       "    </tr>\n",
       "    <tr>\n",
       "      <th>4</th>\n",
       "      <td>1/1/2017</td>\n",
       "      <td>CN</td>\n",
       "      <td>Beijing</td>\n",
       "      <td>235</td>\n",
       "    </tr>\n",
       "  </tbody>\n",
       "</table>\n",
       "</div>"
      ],
      "text/plain": [
       "       Date Country          City  Count_o3\n",
       "0  1/1/2017      US   Los Angeles        24\n",
       "1  1/1/2017      CN      Shanghai       188\n",
       "2  1/1/2017      US     Manhattan        24\n",
       "3  1/1/2017      US  Jacksonville        46\n",
       "4  1/1/2017      CN       Beijing       235"
      ]
     },
     "execution_count": 10,
     "metadata": {},
     "output_type": "execute_result"
    }
   ],
   "source": [
    "#delete specie\n",
    "df1.drop(df1.columns[[3]], axis=1, inplace=True)\n",
    "df1.head()"
   ]
  },
  {
   "cell_type": "code",
   "execution_count": 36,
   "metadata": {},
   "outputs": [
    {
     "data": {
      "text/html": [
       "<div>\n",
       "<style scoped>\n",
       "    .dataframe tbody tr th:only-of-type {\n",
       "        vertical-align: middle;\n",
       "    }\n",
       "\n",
       "    .dataframe tbody tr th {\n",
       "        vertical-align: top;\n",
       "    }\n",
       "\n",
       "    .dataframe thead th {\n",
       "        text-align: right;\n",
       "    }\n",
       "</style>\n",
       "<table border=\"1\" class=\"dataframe\">\n",
       "  <thead>\n",
       "    <tr style=\"text-align: right;\">\n",
       "      <th></th>\n",
       "      <th>Date</th>\n",
       "      <th>Country</th>\n",
       "      <th>City</th>\n",
       "      <th>Count_o3</th>\n",
       "    </tr>\n",
       "  </thead>\n",
       "  <tbody>\n",
       "    <tr>\n",
       "      <th>0</th>\n",
       "      <td>2017-01-01</td>\n",
       "      <td>US</td>\n",
       "      <td>Los Angeles</td>\n",
       "      <td>24</td>\n",
       "    </tr>\n",
       "    <tr>\n",
       "      <th>1</th>\n",
       "      <td>2017-01-01</td>\n",
       "      <td>CN</td>\n",
       "      <td>Shanghai</td>\n",
       "      <td>188</td>\n",
       "    </tr>\n",
       "    <tr>\n",
       "      <th>2</th>\n",
       "      <td>2017-01-01</td>\n",
       "      <td>US</td>\n",
       "      <td>Manhattan</td>\n",
       "      <td>24</td>\n",
       "    </tr>\n",
       "    <tr>\n",
       "      <th>3</th>\n",
       "      <td>2017-01-01</td>\n",
       "      <td>US</td>\n",
       "      <td>Jacksonville</td>\n",
       "      <td>46</td>\n",
       "    </tr>\n",
       "    <tr>\n",
       "      <th>4</th>\n",
       "      <td>2017-01-01</td>\n",
       "      <td>CN</td>\n",
       "      <td>Beijing</td>\n",
       "      <td>235</td>\n",
       "    </tr>\n",
       "  </tbody>\n",
       "</table>\n",
       "</div>"
      ],
      "text/plain": [
       "        Date Country          City  Count_o3\n",
       "0 2017-01-01      US   Los Angeles        24\n",
       "1 2017-01-01      CN      Shanghai       188\n",
       "2 2017-01-01      US     Manhattan        24\n",
       "3 2017-01-01      US  Jacksonville        46\n",
       "4 2017-01-01      CN       Beijing       235"
      ]
     },
     "execution_count": 36,
     "metadata": {},
     "output_type": "execute_result"
    }
   ],
   "source": [
    "#convert 'date' column as object type to datetime\n",
    "df1['Date'] = pd.to_datetime(df1['Date'])\n",
    "df1.head()"
   ]
  },
  {
   "cell_type": "markdown",
   "metadata": {},
   "source": [
    "##### df2\n",
    "1. drop last 3 columns\n",
    "2. rename the count columns\n",
    "3. delete the specie column\n",
    "4. convert date column as object type to datetime "
   ]
  },
  {
   "cell_type": "code",
   "execution_count": 11,
   "metadata": {},
   "outputs": [
    {
     "data": {
      "text/html": [
       "<div>\n",
       "<style scoped>\n",
       "    .dataframe tbody tr th:only-of-type {\n",
       "        vertical-align: middle;\n",
       "    }\n",
       "\n",
       "    .dataframe tbody tr th {\n",
       "        vertical-align: top;\n",
       "    }\n",
       "\n",
       "    .dataframe thead th {\n",
       "        text-align: right;\n",
       "    }\n",
       "</style>\n",
       "<table border=\"1\" class=\"dataframe\">\n",
       "  <thead>\n",
       "    <tr style=\"text-align: right;\">\n",
       "      <th></th>\n",
       "      <th>Date</th>\n",
       "      <th>Country</th>\n",
       "      <th>City</th>\n",
       "      <th>Specie</th>\n",
       "      <th>count</th>\n",
       "    </tr>\n",
       "  </thead>\n",
       "  <tbody>\n",
       "    <tr>\n",
       "      <th>0</th>\n",
       "      <td>1/1/2017</td>\n",
       "      <td>IN</td>\n",
       "      <td>New Delhi</td>\n",
       "      <td>pm25</td>\n",
       "      <td>24</td>\n",
       "    </tr>\n",
       "    <tr>\n",
       "      <th>1</th>\n",
       "      <td>1/1/2017</td>\n",
       "      <td>CN</td>\n",
       "      <td>Shanghai</td>\n",
       "      <td>pm25</td>\n",
       "      <td>215</td>\n",
       "    </tr>\n",
       "    <tr>\n",
       "      <th>2</th>\n",
       "      <td>1/1/2017</td>\n",
       "      <td>US</td>\n",
       "      <td>Jacksonville</td>\n",
       "      <td>pm25</td>\n",
       "      <td>115</td>\n",
       "    </tr>\n",
       "    <tr>\n",
       "      <th>3</th>\n",
       "      <td>1/1/2017</td>\n",
       "      <td>US</td>\n",
       "      <td>Los Angeles</td>\n",
       "      <td>pm25</td>\n",
       "      <td>69</td>\n",
       "    </tr>\n",
       "    <tr>\n",
       "      <th>4</th>\n",
       "      <td>1/1/2017</td>\n",
       "      <td>US</td>\n",
       "      <td>Manhattan</td>\n",
       "      <td>pm25</td>\n",
       "      <td>96</td>\n",
       "    </tr>\n",
       "  </tbody>\n",
       "</table>\n",
       "</div>"
      ],
      "text/plain": [
       "       Date Country          City Specie  count\n",
       "0  1/1/2017      IN     New Delhi   pm25     24\n",
       "1  1/1/2017      CN      Shanghai   pm25    215\n",
       "2  1/1/2017      US  Jacksonville   pm25    115\n",
       "3  1/1/2017      US   Los Angeles   pm25     69\n",
       "4  1/1/2017      US     Manhattan   pm25     96"
      ]
     },
     "execution_count": 11,
     "metadata": {},
     "output_type": "execute_result"
    }
   ],
   "source": [
    "# drop last 3 columns\n",
    "df2.drop(df2.columns[[5,6,7]], axis=1, inplace=True)\n",
    "df2.head()"
   ]
  },
  {
   "cell_type": "code",
   "execution_count": 12,
   "metadata": {},
   "outputs": [
    {
     "data": {
      "text/html": [
       "<div>\n",
       "<style scoped>\n",
       "    .dataframe tbody tr th:only-of-type {\n",
       "        vertical-align: middle;\n",
       "    }\n",
       "\n",
       "    .dataframe tbody tr th {\n",
       "        vertical-align: top;\n",
       "    }\n",
       "\n",
       "    .dataframe thead th {\n",
       "        text-align: right;\n",
       "    }\n",
       "</style>\n",
       "<table border=\"1\" class=\"dataframe\">\n",
       "  <thead>\n",
       "    <tr style=\"text-align: right;\">\n",
       "      <th></th>\n",
       "      <th>Date</th>\n",
       "      <th>Country</th>\n",
       "      <th>City</th>\n",
       "      <th>Specie</th>\n",
       "      <th>Count_pm25</th>\n",
       "    </tr>\n",
       "  </thead>\n",
       "  <tbody>\n",
       "    <tr>\n",
       "      <th>0</th>\n",
       "      <td>1/1/2017</td>\n",
       "      <td>IN</td>\n",
       "      <td>New Delhi</td>\n",
       "      <td>pm25</td>\n",
       "      <td>24</td>\n",
       "    </tr>\n",
       "    <tr>\n",
       "      <th>1</th>\n",
       "      <td>1/1/2017</td>\n",
       "      <td>CN</td>\n",
       "      <td>Shanghai</td>\n",
       "      <td>pm25</td>\n",
       "      <td>215</td>\n",
       "    </tr>\n",
       "    <tr>\n",
       "      <th>2</th>\n",
       "      <td>1/1/2017</td>\n",
       "      <td>US</td>\n",
       "      <td>Jacksonville</td>\n",
       "      <td>pm25</td>\n",
       "      <td>115</td>\n",
       "    </tr>\n",
       "    <tr>\n",
       "      <th>3</th>\n",
       "      <td>1/1/2017</td>\n",
       "      <td>US</td>\n",
       "      <td>Los Angeles</td>\n",
       "      <td>pm25</td>\n",
       "      <td>69</td>\n",
       "    </tr>\n",
       "    <tr>\n",
       "      <th>4</th>\n",
       "      <td>1/1/2017</td>\n",
       "      <td>US</td>\n",
       "      <td>Manhattan</td>\n",
       "      <td>pm25</td>\n",
       "      <td>96</td>\n",
       "    </tr>\n",
       "  </tbody>\n",
       "</table>\n",
       "</div>"
      ],
      "text/plain": [
       "       Date Country          City Specie  Count_pm25\n",
       "0  1/1/2017      IN     New Delhi   pm25          24\n",
       "1  1/1/2017      CN      Shanghai   pm25         215\n",
       "2  1/1/2017      US  Jacksonville   pm25         115\n",
       "3  1/1/2017      US   Los Angeles   pm25          69\n",
       "4  1/1/2017      US     Manhattan   pm25          96"
      ]
     },
     "execution_count": 12,
     "metadata": {},
     "output_type": "execute_result"
    }
   ],
   "source": [
    "#rename the count columns\n",
    "df2.columns = ['Date', 'Country', 'City', 'Specie', 'Count_pm25']\n",
    "df2.head()"
   ]
  },
  {
   "cell_type": "code",
   "execution_count": 13,
   "metadata": {},
   "outputs": [
    {
     "data": {
      "text/html": [
       "<div>\n",
       "<style scoped>\n",
       "    .dataframe tbody tr th:only-of-type {\n",
       "        vertical-align: middle;\n",
       "    }\n",
       "\n",
       "    .dataframe tbody tr th {\n",
       "        vertical-align: top;\n",
       "    }\n",
       "\n",
       "    .dataframe thead th {\n",
       "        text-align: right;\n",
       "    }\n",
       "</style>\n",
       "<table border=\"1\" class=\"dataframe\">\n",
       "  <thead>\n",
       "    <tr style=\"text-align: right;\">\n",
       "      <th></th>\n",
       "      <th>Date</th>\n",
       "      <th>Country</th>\n",
       "      <th>City</th>\n",
       "      <th>Count_pm25</th>\n",
       "    </tr>\n",
       "  </thead>\n",
       "  <tbody>\n",
       "    <tr>\n",
       "      <th>0</th>\n",
       "      <td>1/1/2017</td>\n",
       "      <td>IN</td>\n",
       "      <td>New Delhi</td>\n",
       "      <td>24</td>\n",
       "    </tr>\n",
       "    <tr>\n",
       "      <th>1</th>\n",
       "      <td>1/1/2017</td>\n",
       "      <td>CN</td>\n",
       "      <td>Shanghai</td>\n",
       "      <td>215</td>\n",
       "    </tr>\n",
       "    <tr>\n",
       "      <th>2</th>\n",
       "      <td>1/1/2017</td>\n",
       "      <td>US</td>\n",
       "      <td>Jacksonville</td>\n",
       "      <td>115</td>\n",
       "    </tr>\n",
       "    <tr>\n",
       "      <th>3</th>\n",
       "      <td>1/1/2017</td>\n",
       "      <td>US</td>\n",
       "      <td>Los Angeles</td>\n",
       "      <td>69</td>\n",
       "    </tr>\n",
       "    <tr>\n",
       "      <th>4</th>\n",
       "      <td>1/1/2017</td>\n",
       "      <td>US</td>\n",
       "      <td>Manhattan</td>\n",
       "      <td>96</td>\n",
       "    </tr>\n",
       "  </tbody>\n",
       "</table>\n",
       "</div>"
      ],
      "text/plain": [
       "       Date Country          City  Count_pm25\n",
       "0  1/1/2017      IN     New Delhi          24\n",
       "1  1/1/2017      CN      Shanghai         215\n",
       "2  1/1/2017      US  Jacksonville         115\n",
       "3  1/1/2017      US   Los Angeles          69\n",
       "4  1/1/2017      US     Manhattan          96"
      ]
     },
     "execution_count": 13,
     "metadata": {},
     "output_type": "execute_result"
    }
   ],
   "source": [
    "#delete specie\n",
    "df2.drop(df2.columns[[3]], axis=1, inplace=True)\n",
    "df2.head()"
   ]
  },
  {
   "cell_type": "code",
   "execution_count": 35,
   "metadata": {},
   "outputs": [
    {
     "data": {
      "text/html": [
       "<div>\n",
       "<style scoped>\n",
       "    .dataframe tbody tr th:only-of-type {\n",
       "        vertical-align: middle;\n",
       "    }\n",
       "\n",
       "    .dataframe tbody tr th {\n",
       "        vertical-align: top;\n",
       "    }\n",
       "\n",
       "    .dataframe thead th {\n",
       "        text-align: right;\n",
       "    }\n",
       "</style>\n",
       "<table border=\"1\" class=\"dataframe\">\n",
       "  <thead>\n",
       "    <tr style=\"text-align: right;\">\n",
       "      <th></th>\n",
       "      <th>Date</th>\n",
       "      <th>Country</th>\n",
       "      <th>City</th>\n",
       "      <th>Count_pm25</th>\n",
       "    </tr>\n",
       "  </thead>\n",
       "  <tbody>\n",
       "    <tr>\n",
       "      <th>0</th>\n",
       "      <td>2017-01-01</td>\n",
       "      <td>IN</td>\n",
       "      <td>New Delhi</td>\n",
       "      <td>24</td>\n",
       "    </tr>\n",
       "    <tr>\n",
       "      <th>1</th>\n",
       "      <td>2017-01-01</td>\n",
       "      <td>CN</td>\n",
       "      <td>Shanghai</td>\n",
       "      <td>215</td>\n",
       "    </tr>\n",
       "    <tr>\n",
       "      <th>2</th>\n",
       "      <td>2017-01-01</td>\n",
       "      <td>US</td>\n",
       "      <td>Jacksonville</td>\n",
       "      <td>115</td>\n",
       "    </tr>\n",
       "    <tr>\n",
       "      <th>3</th>\n",
       "      <td>2017-01-01</td>\n",
       "      <td>US</td>\n",
       "      <td>Los Angeles</td>\n",
       "      <td>69</td>\n",
       "    </tr>\n",
       "    <tr>\n",
       "      <th>4</th>\n",
       "      <td>2017-01-01</td>\n",
       "      <td>US</td>\n",
       "      <td>Manhattan</td>\n",
       "      <td>96</td>\n",
       "    </tr>\n",
       "  </tbody>\n",
       "</table>\n",
       "</div>"
      ],
      "text/plain": [
       "        Date Country          City  Count_pm25\n",
       "0 2017-01-01      IN     New Delhi          24\n",
       "1 2017-01-01      CN      Shanghai         215\n",
       "2 2017-01-01      US  Jacksonville         115\n",
       "3 2017-01-01      US   Los Angeles          69\n",
       "4 2017-01-01      US     Manhattan          96"
      ]
     },
     "execution_count": 35,
     "metadata": {},
     "output_type": "execute_result"
    }
   ],
   "source": [
    "#convert 'date' column as object type to datetime \n",
    "df2['Date'] = pd.to_datetime(df2['Date'])\n",
    "df2.head()"
   ]
  },
  {
   "cell_type": "markdown",
   "metadata": {},
   "source": [
    "##### merge 2 dfs"
   ]
  },
  {
   "cell_type": "code",
   "execution_count": 39,
   "metadata": {},
   "outputs": [
    {
     "data": {
      "text/html": [
       "<div>\n",
       "<style scoped>\n",
       "    .dataframe tbody tr th:only-of-type {\n",
       "        vertical-align: middle;\n",
       "    }\n",
       "\n",
       "    .dataframe tbody tr th {\n",
       "        vertical-align: top;\n",
       "    }\n",
       "\n",
       "    .dataframe thead th {\n",
       "        text-align: right;\n",
       "    }\n",
       "</style>\n",
       "<table border=\"1\" class=\"dataframe\">\n",
       "  <thead>\n",
       "    <tr style=\"text-align: right;\">\n",
       "      <th></th>\n",
       "      <th>Date</th>\n",
       "      <th>Country</th>\n",
       "      <th>City</th>\n",
       "      <th>Count_o3</th>\n",
       "      <th>Count_pm25</th>\n",
       "    </tr>\n",
       "  </thead>\n",
       "  <tbody>\n",
       "    <tr>\n",
       "      <th>0</th>\n",
       "      <td>2017-01-01</td>\n",
       "      <td>US</td>\n",
       "      <td>Los Angeles</td>\n",
       "      <td>24</td>\n",
       "      <td>69</td>\n",
       "    </tr>\n",
       "    <tr>\n",
       "      <th>1</th>\n",
       "      <td>2017-01-01</td>\n",
       "      <td>CN</td>\n",
       "      <td>Shanghai</td>\n",
       "      <td>188</td>\n",
       "      <td>215</td>\n",
       "    </tr>\n",
       "    <tr>\n",
       "      <th>2</th>\n",
       "      <td>2017-01-01</td>\n",
       "      <td>US</td>\n",
       "      <td>Manhattan</td>\n",
       "      <td>24</td>\n",
       "      <td>96</td>\n",
       "    </tr>\n",
       "    <tr>\n",
       "      <th>3</th>\n",
       "      <td>2017-01-01</td>\n",
       "      <td>US</td>\n",
       "      <td>Jacksonville</td>\n",
       "      <td>46</td>\n",
       "      <td>115</td>\n",
       "    </tr>\n",
       "    <tr>\n",
       "      <th>4</th>\n",
       "      <td>2017-01-01</td>\n",
       "      <td>CN</td>\n",
       "      <td>Beijing</td>\n",
       "      <td>235</td>\n",
       "      <td>386</td>\n",
       "    </tr>\n",
       "  </tbody>\n",
       "</table>\n",
       "</div>"
      ],
      "text/plain": [
       "        Date Country          City  Count_o3  Count_pm25\n",
       "0 2017-01-01      US   Los Angeles        24          69\n",
       "1 2017-01-01      CN      Shanghai       188         215\n",
       "2 2017-01-01      US     Manhattan        24          96\n",
       "3 2017-01-01      US  Jacksonville        46         115\n",
       "4 2017-01-01      CN       Beijing       235         386"
      ]
     },
     "execution_count": 39,
     "metadata": {},
     "output_type": "execute_result"
    }
   ],
   "source": [
    "merge_df = pd.merge(df1, df2, how='left', left_on=['Date', 'Country','City'], right_on=['Date', 'Country', 'City'])\n",
    "merge_df.head()"
   ]
  },
  {
   "cell_type": "markdown",
   "metadata": {},
   "source": [
    "#### Load"
   ]
  },
  {
   "cell_type": "markdown",
   "metadata": {},
   "source": [
    "##### Connect to postgeSQL database\n",
    "1. Method 1 - sqlalchemy\n",
    "2. Method 2 - psycopg2"
   ]
  },
  {
   "cell_type": "code",
   "execution_count": 37,
   "metadata": {},
   "outputs": [
    {
     "name": "stdout",
     "output_type": "stream",
     "text": [
      "connection to the 127.0.0.1 for user achmadadyatma and database named learndb created successfully.\n"
     ]
    }
   ],
   "source": [
    "#CONNECT TO POSTGRESQL DATABASE METHOD 1\n",
    "#SQLalchemy - general ORM (Object Relational Mapping) library\n",
    "\n",
    "#IMPORT THE SQLALCHEMY LIBRARY's CREATE_ENGINE METHOD\n",
    "from sqlalchemy import create_engine\n",
    "\n",
    "#DEFINE THE DATABASE CREDENTIALS\n",
    "user = 'achmadadyatma'\n",
    "password = '541997'\n",
    "host = '127.0.0.1'\n",
    "port = '5432'\n",
    "dbname ='learndb'\n",
    "\n",
    "# PYTHON FUNCTION TO CONNECT TO THE POSTGRESQL DATABASE\n",
    "# RETURN THE SQLALCHEMY ENGINE OBJECT\n",
    "def get_connection_sqlalchemy():\n",
    "       return create_engine(\n",
    "              url=\"postgresql://{0}:{1}@{2}:{3}/{4}\".format(\n",
    "                     user, password, host, port, dbname\n",
    "              )\n",
    "       )\n",
    "\n",
    "if __name__== '__main__':\n",
    "       try:\n",
    "              #GET THE CONNECTION OBJECT (ENGINE) FOR THE DATABASE\n",
    "              engine = get_connection_sqlalchemy()\n",
    "              print(f\"connection to the {host} for user {user} and database named {dbname} created successfully.\")\n",
    "       except Exception as ex:\n",
    "              print(\"Connection could not be made due to the following error: \\n\", ex)"
   ]
  },
  {
   "cell_type": "code",
   "execution_count": 38,
   "metadata": {},
   "outputs": [
    {
     "name": "stdout",
     "output_type": "stream",
     "text": [
      "connection to the 127.0.0.1 for user achmadadyatma and database named learndb created successfully.\n"
     ]
    }
   ],
   "source": [
    "#CONNECT TO POSTGRESQL DATABASE METHOD 2\n",
    "#psycopg2 - database driver for postgresql\n",
    "\n",
    "#IMPORT THE THE PSYCOPG2 MODULE TO CREATE CONNECTION OBJECT\n",
    "import psycopg2\n",
    "\n",
    "#PYTHON FUNCTION TO CONNECT TO THE POSTGRESQL DATABASES AND DATABASE CREDENTIALS\n",
    "def get_connection_psycopg2():\n",
    "       return psycopg2.connect(\n",
    "        user = 'achmadadyatma',\n",
    "        password = '541997',\n",
    "        host = '127.0.0.1',\n",
    "        port = '5432',\n",
    "        dbname ='learndb')\n",
    "\n",
    "if __name__== '__main__':\n",
    "       try:\n",
    "              #GET THE CONNECTION OBJECT (DRIVER) FOR THE DATABASE\n",
    "              driver = get_connection_psycopg2()\n",
    "              print(f\"connection to the {host} for user {user} and database named {dbname} created successfully.\")\n",
    "       except Exception as ex:\n",
    "              print(\"Connection could not be made due to the following error: \\n\", ex)"
   ]
  },
  {
   "cell_type": "markdown",
   "metadata": {},
   "source": [
    "##### Test - Query to operate CRUD\n",
    "1. CRUD in sqlalchemy - \"persons\"\n",
    "2. CRUD in pyscopg2 - \"customers\""
   ]
  },
  {
   "cell_type": "code",
   "execution_count": 4,
   "metadata": {},
   "outputs": [
    {
     "data": {
      "text/plain": [
       "<sqlalchemy.engine.cursor.LegacyCursorResult at 0x7ff94556a4a0>"
      ]
     },
     "execution_count": 4,
     "metadata": {},
     "output_type": "execute_result"
    }
   ],
   "source": [
    "# 1. Query in sqlalchemy\n",
    "from sqlalchemy import create_engine\n",
    "\n",
    "db = engine\n",
    "\n",
    "#CRUD\n",
    "# Capital letters are ignored\n",
    "# C - Create table named \"persons\" in learndb database\n",
    "db.execute(\"CREATE TABLE persons(ID int NOT NULL, LastName varchar(255) NOT NULL, FirstName varchar(255), Age int, DateOfBirth date, PRIMARY KEY(ID))\")"
   ]
  },
  {
   "cell_type": "code",
   "execution_count": 5,
   "metadata": {},
   "outputs": [
    {
     "data": {
      "text/plain": [
       "<sqlalchemy.engine.cursor.LegacyCursorResult at 0x7ff94510ff10>"
      ]
     },
     "execution_count": 5,
     "metadata": {},
     "output_type": "execute_result"
    }
   ],
   "source": [
    "# C - Create 2 records into \"persons\" table\n",
    "db.execute(\"INSERT INTO persons(ID, LastName, FirstName, Age, DateOfBirth) VALUES ('1', 'Ardi', 'Achmad', '25', '1997-04-05')\")\n",
    "\n",
    "db.execute(\"INSERT INTO persons(ID, LastName, FirstName, Age, DateOfBirth) VALUES ('3', 'Wulandari', 'Qonita', '26', '1996-12-13')\")"
   ]
  },
  {
   "cell_type": "code",
   "execution_count": 6,
   "metadata": {},
   "outputs": [
    {
     "name": "stdout",
     "output_type": "stream",
     "text": [
      "(1, 'Ardi', 'Achmad', 25, datetime.date(1997, 4, 5))\n",
      "(3, 'Wulandari', 'Qonita', 26, datetime.date(1996, 12, 13))\n"
     ]
    }
   ],
   "source": [
    "#R - Read all records on \"persons\" table\n",
    "result_set = db.execute(\"SELECT * FROM persons\")\n",
    "for r in result_set.fetchall():\n",
    "    print(r)"
   ]
  },
  {
   "cell_type": "code",
   "execution_count": 7,
   "metadata": {},
   "outputs": [
    {
     "data": {
      "text/plain": [
       "<sqlalchemy.engine.cursor.LegacyCursorResult at 0x7ff954125ff0>"
      ]
     },
     "execution_count": 7,
     "metadata": {},
     "output_type": "execute_result"
    }
   ],
   "source": [
    "#U - Update existing record where ID = 1\n",
    "db.execute(\"UPDATE persons SET FirstName='Adyatma' WHERE ID='1'\")"
   ]
  },
  {
   "cell_type": "code",
   "execution_count": 8,
   "metadata": {},
   "outputs": [
    {
     "data": {
      "text/plain": [
       "<sqlalchemy.engine.cursor.LegacyCursorResult at 0x7ff94556ae30>"
      ]
     },
     "execution_count": 8,
     "metadata": {},
     "output_type": "execute_result"
    }
   ],
   "source": [
    "#D - Delete existing record where ID = 3\n",
    "db.execute(\"DELETE FROM persons WHERE ID='3'\")"
   ]
  },
  {
   "cell_type": "code",
   "execution_count": 10,
   "metadata": {},
   "outputs": [
    {
     "name": "stdout",
     "output_type": "stream",
     "text": [
      "Table created succesfully\n"
     ]
    }
   ],
   "source": [
    "# 2. Query in psycopg2\n",
    "import psycopg2\n",
    "\n",
    "conn = get_connection_psycopg2()\n",
    "cursor = conn.cursor()\n",
    "\n",
    "#CRUD\n",
    "# C - Create table named \"customers\" in learndb database\n",
    "sql = '''\n",
    "    CREATE TABLE customers(\n",
    "    ID INT NOT NULL,\n",
    "    Name VARCHAR (20) NOT NULL,\n",
    "    Age INT NOT NULL,\n",
    "    Address CHAR (25),\n",
    "    Salary DECIMAL (18, 2),       \n",
    "    PRIMARY KEY (ID));\n",
    "'''\n",
    "cursor.execute(sql)\n",
    "print(\"Table created succesfully\")\n",
    "conn.commit()"
   ]
  },
  {
   "cell_type": "code",
   "execution_count": 12,
   "metadata": {},
   "outputs": [
    {
     "name": "stdout",
     "output_type": "stream",
     "text": [
      "Values created succesfully\n"
     ]
    }
   ],
   "source": [
    "# C - Create 2 records into \"customers\" table\n",
    "conn = get_connection_psycopg2()\n",
    "cursor = conn.cursor()\n",
    "sql_1 = '''\n",
    "    INSERT INTO customers(ID, Name, Age, Address, Salary) \n",
    "    VALUES ('1', 'Laiba', '27', 'Taman ubud kencana 2', '23.4');\n",
    "'''\n",
    "\n",
    "sql_2 = '''\n",
    "    INSERT INTO customers(ID, Name, Age, Address, Salary) \n",
    "    VALUES ('2', 'Nafisah', '29', 'Saribumi indah 3', '32.1');\n",
    "'''\n",
    "\n",
    "cursor.execute(sql_1)\n",
    "cursor.execute(sql_2)\n",
    "print(\"Values created succesfully\")\n",
    "conn.commit()"
   ]
  },
  {
   "cell_type": "code",
   "execution_count": 13,
   "metadata": {},
   "outputs": [
    {
     "name": "stdout",
     "output_type": "stream",
     "text": [
      "(1, 'Laiba', 27, 'Taman ubud kencana 2     ', Decimal('23.40'))\n",
      "(2, 'Nafisah', 29, 'Saribumi indah 3         ', Decimal('32.10'))\n"
     ]
    }
   ],
   "source": [
    "#R - Read all records on \"customers\" table\n",
    "conn = get_connection_psycopg2()\n",
    "cursor = conn.cursor()\n",
    "\n",
    "sql_3 = '''\n",
    "    SELECT * FROM customers;\n",
    "'''\n",
    "\n",
    "result_set = db.execute(sql_3)\n",
    "for r in result_set.fetchall():\n",
    "    print(r)"
   ]
  },
  {
   "cell_type": "code",
   "execution_count": 14,
   "metadata": {},
   "outputs": [
    {
     "name": "stdout",
     "output_type": "stream",
     "text": [
      "Updated value created succesfully\n"
     ]
    }
   ],
   "source": [
    "#U - Update existing record where ID = 1\n",
    "conn = get_connection_psycopg2()\n",
    "cursor = conn.cursor()\n",
    "\n",
    "sql_4 = '''\n",
    "    UPDATE customers SET Age='25' WHERE ID='1';\n",
    "'''\n",
    "\n",
    "cursor.execute(sql_4)\n",
    "print(\"Updated value created succesfully\")\n",
    "conn.commit()"
   ]
  },
  {
   "cell_type": "code",
   "execution_count": 15,
   "metadata": {},
   "outputs": [
    {
     "name": "stdout",
     "output_type": "stream",
     "text": [
      "Updated value created succesfully\n"
     ]
    }
   ],
   "source": [
    "#D - delete existing record where ID = 2\n",
    "conn = get_connection_psycopg2()\n",
    "cursor = conn.cursor()\n",
    "\n",
    "sql_4 = '''\n",
    "    DELETE FROM customers WHERE ID='2';\n",
    "'''\n",
    "\n",
    "cursor.execute(sql_4)\n",
    "print(\"Updated value created succesfully\")\n",
    "conn.commit()"
   ]
  },
  {
   "cell_type": "markdown",
   "metadata": {},
   "source": [
    "##### Load Merged Data\n",
    "1. Create Schema Table \"pollution\"\n",
    "\n",
    "CREATE TABLE pollution (\n",
    "    \"Date\" DATE,\n",
    "    \"Country\" VARCHAR,\n",
    "    \"City\" VARCHAR,\n",
    "    \"Count_o3\" INT,\n",
    "    \"Count_pm25\" INT\n",
    ");\n",
    "\n",
    "2. Check available tables in database\n",
    "3. Show dataframe's data that you want to load\n",
    "4. Load the dataframe 'merge_df' to database\n",
    "5. Confirm data has been added to the table"
   ]
  },
  {
   "cell_type": "code",
   "execution_count": 60,
   "metadata": {},
   "outputs": [
    {
     "name": "stdout",
     "output_type": "stream",
     "text": [
      "Table created succesfully\n"
     ]
    }
   ],
   "source": [
    "#1. Create Schema Table 'pollution'\n",
    "import psycopg2\n",
    "\n",
    "conn = get_connection_psycopg2()\n",
    "cursor = conn.cursor()\n",
    "\n",
    "sql = '''\n",
    "    CREATE TABLE pollution(\n",
    "    \"Date\" DATE,\n",
    "    \"Country\" VARCHAR,\n",
    "    \"City\" VARCHAR,\n",
    "    \"Count_o3\" INT,\n",
    "    \"Count_pm25\" INT);\n",
    "'''\n",
    "\n",
    "cursor.execute(sql)\n",
    "print(\"Table created succesfully\")\n",
    "conn.commit()"
   ]
  },
  {
   "cell_type": "code",
   "execution_count": 40,
   "metadata": {},
   "outputs": [
    {
     "name": "stdout",
     "output_type": "stream",
     "text": [
      "['persons', 'customers', 'pollution']\n"
     ]
    }
   ],
   "source": [
    "#2. Check available table in database (make sure the schema table of 'pollution' have been created)\n",
    "from sqlalchemy import create_engine\n",
    "from sqlalchemy import inspect\n",
    "\n",
    "db = engine\n",
    "insp = inspect(db)\n",
    "print(insp.get_table_names())"
   ]
  },
  {
   "cell_type": "code",
   "execution_count": 43,
   "metadata": {},
   "outputs": [
    {
     "name": "stdout",
     "output_type": "stream",
     "text": [
      "        Date Country          City  Count_o3  Count_pm25\n",
      "0 2017-01-01      US   Los Angeles        24          69\n",
      "1 2017-01-01      CN      Shanghai       188         215\n",
      "2 2017-01-01      US     Manhattan        24          96\n",
      "3 2017-01-01      US  Jacksonville        46         115\n",
      "4 2017-01-01      CN       Beijing       235         386\n",
      "Date          datetime64[ns]\n",
      "Country               object\n",
      "City                  object\n",
      "Count_o3               int64\n",
      "Count_pm25             int64\n",
      "dtype: object\n"
     ]
    }
   ],
   "source": [
    "#3. Show dataframe's data that you want to load\n",
    "print(merge_df.head())\n",
    "print(merge_df.dtypes)"
   ]
  },
  {
   "cell_type": "code",
   "execution_count": 42,
   "metadata": {},
   "outputs": [
    {
     "data": {
      "text/plain": [
       "100"
      ]
     },
     "execution_count": 42,
     "metadata": {},
     "output_type": "execute_result"
    }
   ],
   "source": [
    "#4. Load the data to database\n",
    "merge_df.to_sql(name=\"pollution\", con=db, if_exists='append', index=False)"
   ]
  },
  {
   "cell_type": "code",
   "execution_count": 45,
   "metadata": {},
   "outputs": [
    {
     "name": "stdout",
     "output_type": "stream",
     "text": [
      "         Date Country          City  Count_o3  Count_pm25\n",
      "0  2017-01-01      US   Los Angeles        24          69\n",
      "1  2017-01-01      CN      Shanghai       188         215\n",
      "2  2017-01-01      US     Manhattan        24          96\n",
      "3  2017-01-01      US  Jacksonville        46         115\n",
      "4  2017-01-01      CN       Beijing       235         386\n",
      "            Date Country          City  Count_o3  Count_pm25\n",
      "5095  2020-06-30      US   Los Angeles        24          72\n",
      "5096  2020-06-30      CN         Wuhan       382         384\n",
      "5097  2020-06-30      US     Manhattan        24          49\n",
      "5098  2020-06-30      US  Jacksonville       120         141\n",
      "5099  2020-06-30      CN      Shanghai       828         853\n"
     ]
    }
   ],
   "source": [
    "#5. Confirm data has been added to the table\n",
    "print(pd.read_sql_query(\"SELECT * FROM pollution\", con=db).head())\n",
    "print(pd.read_sql_query(\"SELECT * FROM pollution\", con=db).tail())"
   ]
  }
 ],
 "metadata": {
  "kernelspec": {
   "display_name": "Python 3.10.4 64-bit",
   "language": "python",
   "name": "python3"
  },
  "language_info": {
   "codemirror_mode": {
    "name": "ipython",
    "version": 3
   },
   "file_extension": ".py",
   "mimetype": "text/x-python",
   "name": "python",
   "nbconvert_exporter": "python",
   "pygments_lexer": "ipython3",
   "version": "3.10.4"
  },
  "orig_nbformat": 4,
  "vscode": {
   "interpreter": {
    "hash": "31f2aee4e71d21fbe5cf8b01ff0e069b9275f58929596ceb00d14d90e3e16cd6"
   }
  }
 },
 "nbformat": 4,
 "nbformat_minor": 2
}
